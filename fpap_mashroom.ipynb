{
  "nbformat": 4,
  "nbformat_minor": 0,
  "metadata": {
    "colab": {
      "name": "fpap mashroom.ipynb",
      "provenance": [],
      "collapsed_sections": []
    },
    "kernelspec": {
      "name": "python3",
      "display_name": "Python 3"
    },
    "language_info": {
      "name": "python"
    }
  },
  "cells": [
    {
      "cell_type": "code",
      "metadata": {
        "id": "ejhoGaJ7-Gas"
      },
      "source": [
        "#%pip install mlxtend --upgrade"
      ],
      "execution_count": null,
      "outputs": []
    },
    {
      "cell_type": "code",
      "metadata": {
        "id": "zf-4l3hUuvex"
      },
      "source": [
        "import pandas as pd\n",
        "import numpy as np\n",
        "from mlxtend.frequent_patterns import apriori\n",
        "from mlxtend.frequent_patterns import fpgrowth\n",
        "from mlxtend.preprocessing import TransactionEncoder\n",
        "import csv\n",
        "import time"
      ],
      "execution_count": null,
      "outputs": []
    },
    {
      "cell_type": "code",
      "metadata": {
        "id": "_7kWrNOIu1zO"
      },
      "source": [
        "with open('mashroom.csv') as f:\n",
        "    reader = csv.reader(f)\n",
        "    my_list = list(reader)\n",
        "#print(\"csv to list:\",my_list)"
      ],
      "execution_count": null,
      "outputs": []
    },
    {
      "cell_type": "code",
      "metadata": {
        "id": "o5BZvS-Fu18N"
      },
      "source": [
        "te = TransactionEncoder()\n",
        "array = te.fit(my_list).transform(my_list)\n",
        "df = pd.DataFrame(array, columns=te.columns_)"
      ],
      "execution_count": null,
      "outputs": []
    },
    {
      "cell_type": "code",
      "metadata": {
        "id": "gZ0gUgoDu2Bk"
      },
      "source": [
        "df = df.head(3000)\n",
        "aptime = []\n",
        "fptime = []\n",
        "th = [0.3, 0.4, 0.5, 0.6, 0.7, 0.8, 0.9]\n",
        "for i in th:\n",
        "  start_time = time.time()\n",
        "  apfrequent = apriori(df, min_support=i)\n",
        "  end = time.time() - start_time\n",
        "  aptime.append(end)\n",
        "\n",
        "  start_time = time.time()\n",
        "  frequent = fpgrowth(df, min_support=i)\n",
        "  end = time.time() - start_time\n",
        "  fptime.append(end)"
      ],
      "execution_count": null,
      "outputs": []
    },
    {
      "cell_type": "code",
      "metadata": {
        "colab": {
          "base_uri": "https://localhost:8080/"
        },
        "id": "EwO53TWhu2Eu",
        "outputId": "4f58df8d-bab0-4cb8-8029-416e60c0d1cd"
      },
      "source": [
        "print(\"Time\",aptime)\n",
        "print(\"Threshold\",th)"
      ],
      "execution_count": null,
      "outputs": [
        {
          "output_type": "stream",
          "name": "stdout",
          "text": [
            "Time [4.491112232208252, 0.5129847526550293, 0.13723325729370117, 0.06919026374816895, 0.031122922897338867, 0.015355825424194336, 0.008628129959106445]\n",
            "Threshold [0.3, 0.4, 0.5, 0.6, 0.7, 0.8, 0.9]\n"
          ]
        }
      ]
    },
    {
      "cell_type": "code",
      "metadata": {
        "id": "gePpUtvCu2NJ",
        "colab": {
          "base_uri": "https://localhost:8080/"
        },
        "outputId": "49b8734d-a84d-4de2-fbd1-c217edf49fdf"
      },
      "source": [
        "print(\"Time\",fptime)\n",
        "print(\"Threshold\",th)"
      ],
      "execution_count": null,
      "outputs": [
        {
          "output_type": "stream",
          "name": "stdout",
          "text": [
            "Time [0.2794175148010254, 0.08659887313842773, 0.07379961013793945, 0.05446028709411621, 0.04842114448547363, 0.043360233306884766, 0.037580013275146484]\n",
            "Threshold [0.3, 0.4, 0.5, 0.6, 0.7, 0.8, 0.9]\n"
          ]
        }
      ]
    },
    {
      "cell_type": "code",
      "metadata": {
        "id": "QaBZiSB6vZ2d",
        "colab": {
          "base_uri": "https://localhost:8080/",
          "height": 295
        },
        "outputId": "de9e07eb-4cd7-4cd2-c3c6-9766fb48ea2e"
      },
      "source": [
        "import matplotlib.pyplot as plt\n",
        "\n",
        "plt.plot(th, fptime,marker='o', markerfacecolor='blue', markersize=8,  label = \"fp\")\n",
        "plt.plot(th, aptime,marker='o', markerfacecolor='red', markersize=8,  label = \"ap\")\n",
        "plt.ylim(0,5)\n",
        "plt.xlim(0,1)\n",
        "plt.xlabel('Threshold')\n",
        "plt.ylabel('Time(sec)')\n",
        "plt.legend()\n",
        "plt.title('Execution Time with various Support levels(Mashroom dataset)')\n",
        "\n",
        "plt.show()"
      ],
      "execution_count": null,
      "outputs": [
        {
          "output_type": "display_data",
          "data": {
            "image/png": "[encoded data removed]",
            "text/plain": [
              "<Figure size 432x288 with 1 Axes>"
            ]
          },
          "metadata": {
            "needs_background": "light"
          }
        }
      ]
    }
  ]
}