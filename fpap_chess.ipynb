{
  "nbformat": 4,
  "nbformat_minor": 0,
  "metadata": {
    "colab": {
      "name": "Copy of fpap chess.ipynb",
      "provenance": [],
      "collapsed_sections": []
    },
    "kernelspec": {
      "name": "python3",
      "display_name": "Python 3"
    },
    "language_info": {
      "name": "python"
    }
  },
  "cells": [
    {
      "cell_type": "code",
      "metadata": {
        "id": "ejhoGaJ7-Gas"
      },
      "source": [
        "#%pip install mlxtend --upgrade"
      ],
      "execution_count": null,
      "outputs": []
    },
    {
      "cell_type": "code",
      "metadata": {
        "id": "zf-4l3hUuvex"
      },
      "source": [
        "import pandas as pd\n",
        "import numpy as np\n",
        "from mlxtend.frequent_patterns import apriori\n",
        "from mlxtend.frequent_patterns import fpgrowth\n",
        "from mlxtend.preprocessing import TransactionEncoder\n",
        "import csv\n",
        "import time"
      ],
      "execution_count": null,
      "outputs": []
    },
    {
      "cell_type": "code",
      "metadata": {
        "id": "_7kWrNOIu1zO"
      },
      "source": [
        "with open('chess.csv') as f:\n",
        "    reader = csv.reader(f)\n",
        "    my_list = list(reader)\n",
        "#print(\"csv to list:\",my_list)"
      ],
      "execution_count": null,
      "outputs": []
    },
    {
      "cell_type": "code",
      "metadata": {
        "id": "o5BZvS-Fu18N"
      },
      "source": [
        "te = TransactionEncoder()\n",
        "array = te.fit(my_list).transform(my_list)\n",
        "df = pd.DataFrame(array, columns=te.columns_)"
      ],
      "execution_count": null,
      "outputs": []
    },
    {
      "cell_type": "code",
      "metadata": {
        "id": "gZ0gUgoDu2Bk"
      },
      "source": [
        "aptime = []\n",
        "th = []\n",
        "i = 0.6\n",
        "while i<1:\n",
        "  start_time = time.time()\n",
        "  apfrequent = apriori(df, min_support=i)\n",
        "  end = time.time() - start_time\n",
        "  aptime.append(end)\n",
        "  th.append(i)\n",
        "  i = i + 0.05"
      ],
      "execution_count": null,
      "outputs": []
    },
    {
      "cell_type": "code",
      "metadata": {
        "colab": {
          "base_uri": "https://localhost:8080/"
        },
        "id": "EwO53TWhu2Eu",
        "outputId": "3f3dd270-f56a-4dfe-9b6d-02a7620bf8d8"
      },
      "source": [
        "print(\"Time\",aptime)\n",
        "print(\"Threshold\",th)"
      ],
      "execution_count": null,
      "outputs": [
        {
          "output_type": "stream",
          "name": "stdout",
          "text": [
            "Time [25.090197563171387, 10.014577865600586, 4.208191633224487, 1.2431557178497314, 0.5145609378814697, 0.16198372840881348, 0.03707718849182129, 0.009007453918457031]\n",
            "Threshold [0.6, 0.65, 0.7000000000000001, 0.7500000000000001, 0.8000000000000002, 0.8500000000000002, 0.9000000000000002, 0.9500000000000003]\n"
          ]
        }
      ]
    },
    {
      "cell_type": "code",
      "metadata": {
        "id": "jPVZf4Gnu2Jo"
      },
      "source": [
        "fptime = []\n",
        "th = []\n",
        "i = 0.6\n",
        "while i<1:\n",
        "  start_time = time.time()\n",
        "  frequent = fpgrowth(df, min_support=i)\n",
        "  end = time.time() - start_time\n",
        "  fptime.append(end)\n",
        "  th.append(i)\n",
        "  i = i + 0.05"
      ],
      "execution_count": null,
      "outputs": []
    },
    {
      "cell_type": "code",
      "metadata": {
        "id": "gePpUtvCu2NJ",
        "colab": {
          "base_uri": "https://localhost:8080/"
        },
        "outputId": "8e5cd0c3-38f5-4414-ca4b-fa22846b975b"
      },
      "source": [
        "print(\"Time\",fptime)\n",
        "print(\"Threshold\",th)"
      ],
      "execution_count": null,
      "outputs": [
        {
          "output_type": "stream",
          "name": "stdout",
          "text": [
            "Time [4.4493513107299805, 2.200500965118408, 0.8602561950683594, 0.5521917343139648, 0.21033024787902832, 0.10964655876159668, 0.07093000411987305, 0.05050301551818848]\n",
            "Threshold [0.6, 0.65, 0.7000000000000001, 0.7500000000000001, 0.8000000000000002, 0.8500000000000002, 0.9000000000000002, 0.9500000000000003]\n"
          ]
        }
      ]
    },
    {
      "cell_type": "code",
      "metadata": {
        "id": "QaBZiSB6vZ2d",
        "colab": {
          "base_uri": "https://localhost:8080/",
          "height": 295
        },
        "outputId": "5bc39f3d-bac0-491c-d1f0-7b45c3338643"
      },
      "source": [
        "import matplotlib.pyplot as plt\n",
        "\n",
        "plt.plot(th, fptime,marker='o', markerfacecolor='blue', markersize=8,  label = \"fp\")\n",
        "plt.plot(th, aptime,marker='o', markerfacecolor='red', markersize=8,  label = \"ap\")\n",
        "plt.ylim(0,30)\n",
        "plt.xlim(0.5,1)\n",
        "plt.xlabel('Threshold')\n",
        "plt.ylabel('Time(sec)')\n",
        "plt.legend()\n",
        "plt.title('Execution Time with various Support levels(Chess dataset)')\n",
        "\n",
        "plt.show()"
      ],
      "execution_count": null,
      "outputs": [
        {
          "output_type": "display_data",
          "data": {
            "image/png": "[encoded data removed]",
            "text/plain": [
              "<Figure size 432x288 with 1 Axes>"
            ]
          },
          "metadata": {
            "needs_background": "light"
          }
        }
      ]
    },
    {
      "cell_type": "code",
      "metadata": {
        "id": "wa9QvH0tvaBk"
      },
      "source": [
        ""
      ],
      "execution_count": null,
      "outputs": []
    }
  ]
}