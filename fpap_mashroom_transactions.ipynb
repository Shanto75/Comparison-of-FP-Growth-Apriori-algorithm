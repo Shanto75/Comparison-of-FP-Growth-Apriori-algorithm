{
  "nbformat": 4,
  "nbformat_minor": 0,
  "metadata": {
    "colab": {
      "name": "Copy of fpap mashroom transactions th=3.ipynb",
      "provenance": [],
      "collapsed_sections": []
    },
    "kernelspec": {
      "name": "python3",
      "display_name": "Python 3"
    },
    "language_info": {
      "name": "python"
    }
  },
  "cells": [
    {
      "cell_type": "code",
      "metadata": {
        "id": "ejhoGaJ7-Gas"
      },
      "source": [
        "#%pip install mlxtend --upgrade"
      ],
      "execution_count": 124,
      "outputs": []
    },
    {
      "cell_type": "code",
      "metadata": {
        "id": "zf-4l3hUuvex"
      },
      "source": [
        "import pandas as pd\n",
        "import numpy as np\n",
        "from mlxtend.frequent_patterns import apriori\n",
        "from mlxtend.frequent_patterns import fpgrowth\n",
        "from mlxtend.preprocessing import TransactionEncoder\n",
        "import csv\n",
        "import time\n",
        "import sklearn.utils"
      ],
      "execution_count": 125,
      "outputs": []
    },
    {
      "cell_type": "code",
      "metadata": {
        "id": "_7kWrNOIu1zO"
      },
      "source": [
        "with open('mashroom.csv') as f:\n",
        "    reader = csv.reader(f)\n",
        "    my_list = list(reader)\n",
        "#print(\"csv to list:\",my_list)"
      ],
      "execution_count": 126,
      "outputs": []
    },
    {
      "cell_type": "code",
      "metadata": {
        "id": "o5BZvS-Fu18N",
        "colab": {
          "base_uri": "https://localhost:8080/"
        },
        "outputId": "c2a4d3be-9b49-4b20-e218-4e765ed74f0d"
      },
      "source": [
        "te = TransactionEncoder()\n",
        "array = te.fit(my_list).transform(my_list)\n",
        "df = pd.DataFrame(array, columns=te.columns_)\n",
        "df.shape"
      ],
      "execution_count": 127,
      "outputs": [
        {
          "output_type": "execute_result",
          "data": {
            "text/plain": [
              "(8124, 119)"
            ]
          },
          "metadata": {},
          "execution_count": 127
        }
      ]
    },
    {
      "cell_type": "code",
      "metadata": {
        "id": "gZ0gUgoDu2Bk"
      },
      "source": [
        "\n",
        "fptime = []\n",
        "aptime = []\n",
        "th = []\n",
        "i = 1000\n",
        "\n",
        "while i<df.shape[0]:\n",
        "  df = sklearn.utils.shuffle(df)\n",
        "  row =df.head(i)\n",
        "  start_time = time.time()\n",
        "  frequent = fpgrowth(row, min_support=0.3)\n",
        "  end = time.time() - start_time\n",
        "  fptime.append(end)\n",
        "\n",
        "  start_time = time.time()\n",
        "  apfrequent = apriori(row, min_support=0.3)\n",
        "  end = time.time() - start_time\n",
        "  aptime.append(end)\n",
        "  th.append(i)\n",
        "  i = i + 1000"
      ],
      "execution_count": 128,
      "outputs": []
    },
    {
      "cell_type": "code",
      "metadata": {
        "colab": {
          "base_uri": "https://localhost:8080/"
        },
        "id": "EwO53TWhu2Eu",
        "outputId": "eeccb292-58c9-45eb-e5a4-9c8001b9f152"
      },
      "source": [
        "print(\"Time\",fptime)\n",
        "print(\"Threshold\",th)"
      ],
      "execution_count": 129,
      "outputs": [
        {
          "output_type": "stream",
          "name": "stdout",
          "text": [
            "Time [0.06778311729431152, 0.08431124687194824, 0.11475992202758789, 0.21869325637817383, 0.16065382957458496, 0.1772167682647705, 0.18465781211853027, 0.2202603816986084]\n",
            "Threshold [1000, 2000, 3000, 4000, 5000, 6000, 7000, 8000]\n"
          ]
        }
      ]
    },
    {
      "cell_type": "code",
      "metadata": {
        "id": "gePpUtvCu2NJ",
        "colab": {
          "base_uri": "https://localhost:8080/"
        },
        "outputId": "9d38c2ef-1046-4f30-e5d4-702ea1f6d3b7"
      },
      "source": [
        "print(\"Time\",aptime)\n",
        "print(\"Threshold\",th)"
      ],
      "execution_count": 130,
      "outputs": [
        {
          "output_type": "stream",
          "name": "stdout",
          "text": [
            "Time [0.09721612930297852, 0.16608190536499023, 0.2366957664489746, 0.3094637393951416, 0.3659994602203369, 0.4219520092010498, 0.5008833408355713, 0.5479803085327148]\n",
            "Threshold [1000, 2000, 3000, 4000, 5000, 6000, 7000, 8000]\n"
          ]
        }
      ]
    },
    {
      "cell_type": "code",
      "metadata": {
        "id": "QaBZiSB6vZ2d",
        "colab": {
          "base_uri": "https://localhost:8080/",
          "height": 295
        },
        "outputId": "ef7c7adb-f839-4cab-8117-ae5b998b2b3c"
      },
      "source": [
        "import matplotlib.pyplot as plt\n",
        "\n",
        "plt.plot(th, fptime,marker='o', markerfacecolor='blue', markersize=8,  label = \"fp\")\n",
        "plt.plot(th, aptime,marker='o', markerfacecolor='red', markersize=8,  label = \"ap\")\n",
        "plt.ylim(0,1)\n",
        "plt.xlim(0,9000)\n",
        "plt.xlabel('Transactions')\n",
        "plt.ylabel('Time(sec)')\n",
        "plt.legend()\n",
        "plt.title('Transactions(Mashroom dataset) for th=0.3')\n",
        "\n",
        "plt.show()"
      ],
      "execution_count": 131,
      "outputs": [
        {
          "output_type": "display_data",
          "data": {
            "image/png": "[encoded data removed]",
            "text/plain": [
              "<Figure size 432x288 with 1 Axes>"
            ]
          },
          "metadata": {
            "needs_background": "light"
          }
        }
      ]
    }
  ]
}