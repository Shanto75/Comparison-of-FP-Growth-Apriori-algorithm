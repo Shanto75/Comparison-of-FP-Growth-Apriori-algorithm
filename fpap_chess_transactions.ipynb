{
  "nbformat": 4,
  "nbformat_minor": 0,
  "metadata": {
    "colab": {
      "name": "Copy of fpap chess transactions th=7.ipynb",
      "provenance": [],
      "collapsed_sections": []
    },
    "kernelspec": {
      "name": "python3",
      "display_name": "Python 3"
    },
    "language_info": {
      "name": "python"
    }
  },
  "cells": [
    {
      "cell_type": "code",
      "metadata": {
        "id": "ejhoGaJ7-Gas"
      },
      "source": [
        "#%pip install mlxtend --upgrade"
      ],
      "execution_count": null,
      "outputs": []
    },
    {
      "cell_type": "code",
      "metadata": {
        "id": "zf-4l3hUuvex"
      },
      "source": [
        "import pandas as pd\n",
        "import numpy as np\n",
        "from mlxtend.frequent_patterns import apriori\n",
        "from mlxtend.frequent_patterns import fpgrowth\n",
        "from mlxtend.preprocessing import TransactionEncoder\n",
        "import csv\n",
        "import time\n",
        "import sklearn.utils"
      ],
      "execution_count": null,
      "outputs": []
    },
    {
      "cell_type": "code",
      "metadata": {
        "id": "_7kWrNOIu1zO"
      },
      "source": [
        "with open('chess.csv') as f:\n",
        "    reader = csv.reader(f)\n",
        "    my_list = list(reader)\n",
        "#print(\"csv to list:\",my_list)"
      ],
      "execution_count": null,
      "outputs": []
    },
    {
      "cell_type": "code",
      "metadata": {
        "id": "o5BZvS-Fu18N",
        "colab": {
          "base_uri": "https://localhost:8080/"
        },
        "outputId": "231e1a49-69e5-4cd5-ff32-51510abe3d9d"
      },
      "source": [
        "te = TransactionEncoder()\n",
        "array = te.fit(my_list).transform(my_list)\n",
        "df = pd.DataFrame(array, columns=te.columns_)\n",
        "df.shape"
      ],
      "execution_count": null,
      "outputs": [
        {
          "output_type": "execute_result",
          "data": {
            "text/plain": [
              "(3196, 75)"
            ]
          },
          "metadata": {},
          "execution_count": 4
        }
      ]
    },
    {
      "cell_type": "code",
      "metadata": {
        "id": "gZ0gUgoDu2Bk"
      },
      "source": [
        "\n",
        "fptime = []\n",
        "aptime = []\n",
        "th = []\n",
        "i = 500\n",
        "\n",
        "while i<df.shape[0]:\n",
        "  df = sklearn.utils.shuffle(df)\n",
        "  row =df.head(i)\n",
        "  start_time = time.time()\n",
        "  frequent = fpgrowth(row, min_support=0.7)\n",
        "  end = time.time() - start_time\n",
        "  fptime.append(end)\n",
        "\n",
        "  start_time = time.time()\n",
        "  apfrequent = apriori(row, min_support=0.7)\n",
        "  end = time.time() - start_time\n",
        "  aptime.append(end)\n",
        "  th.append(i)\n",
        "  i = i + 500"
      ],
      "execution_count": null,
      "outputs": []
    },
    {
      "cell_type": "code",
      "metadata": {
        "colab": {
          "base_uri": "https://localhost:8080/"
        },
        "id": "EwO53TWhu2Eu",
        "outputId": "d5fe5750-48ef-4a90-8e3b-01dbcd8460e5"
      },
      "source": [
        "print(\"Time\",fptime)\n",
        "print(\"Threshold\",th)"
      ],
      "execution_count": null,
      "outputs": [
        {
          "output_type": "stream",
          "name": "stdout",
          "text": [
            "Time [0.8664636611938477, 0.811211347579956, 0.8615632057189941, 1.0328764915466309, 1.0758275985717773, 1.1901612281799316]\n",
            "Threshold [500, 1000, 1500, 2000, 2500, 3000]\n"
          ]
        }
      ]
    },
    {
      "cell_type": "code",
      "metadata": {
        "id": "gePpUtvCu2NJ",
        "colab": {
          "base_uri": "https://localhost:8080/"
        },
        "outputId": "60067ac8-5024-43ac-89f6-d43ef4903dd1"
      },
      "source": [
        "print(\"Time\",aptime)\n",
        "print(\"Threshold\",th)"
      ],
      "execution_count": null,
      "outputs": [
        {
          "output_type": "stream",
          "name": "stdout",
          "text": [
            "Time [1.461756944656372, 1.9781279563903809, 3.074082136154175, 3.512052297592163, 4.04788613319397, 4.663878679275513]\n",
            "Threshold [500, 1000, 1500, 2000, 2500, 3000]\n"
          ]
        }
      ]
    },
    {
      "cell_type": "code",
      "metadata": {
        "id": "QaBZiSB6vZ2d",
        "colab": {
          "base_uri": "https://localhost:8080/",
          "height": 295
        },
        "outputId": "88931263-83e1-4e67-a741-fb0d2e80d79e"
      },
      "source": [
        "import matplotlib.pyplot as plt\n",
        "\n",
        "plt.plot(th, fptime,marker='o', markerfacecolor='blue', markersize=8,  label = \"fp\")\n",
        "plt.plot(th, aptime,marker='o', markerfacecolor='red', markersize=8,  label = \"ap\")\n",
        "plt.ylim(0,8)\n",
        "plt.xlim(0,3200)\n",
        "plt.xlabel('Transactions')\n",
        "plt.ylabel('Time(sec)')\n",
        "plt.legend()\n",
        "plt.title('Transactions(chess dataset)  for th=0.7')\n",
        "\n",
        "plt.show()"
      ],
      "execution_count": null,
      "outputs": [
        {
          "output_type": "display_data",
          "data": {
            "image/png": "[encoded data removed]",
            "text/plain": [
              "<Figure size 432x288 with 1 Axes>"
            ]
          },
          "metadata": {
            "needs_background": "light"
          }
        }
      ]
    }
  ]
}